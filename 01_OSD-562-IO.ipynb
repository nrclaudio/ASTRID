{
 "cells": [
  {
   "cell_type": "code",
   "execution_count": null,
   "id": "8731ff67-d986-48f7-8940-1e97e8a82f40",
   "metadata": {},
   "outputs": [],
   "source": [
    "import scanpy as sc\n",
    "import matplotlib.pyplot as plt\n",
    "import pandas as pd\n",
    "import numpy as np\n",
    "import os\n",
    "import glob\n",
    "import warnings\n",
    "import anndata as ad\n",
    "warnings.filterwarnings(\"ignore\")"
   ]
  },
  {
   "cell_type": "code",
   "execution_count": null,
   "id": "d77d34d5-04a7-40f8-9c60-07bf26976103",
   "metadata": {},
   "outputs": [],
   "source": [
    "h5_files = glob.glob(\"/exports/archive/hg-funcgenom-research/Genelab_dataset/\"\n",
    "                    + \"OSD-562/*_output/\"\n",
    "                     + \"outs/raw_feature_bc_matrix/\")"
   ]
  },
  {
   "cell_type": "code",
   "execution_count": null,
   "id": "6c303a5b-132f-45c8-805c-6817ed843c11",
   "metadata": {},
   "outputs": [],
   "source": [
    "adatas = []\n",
    "for file in h5_files:\n",
    "    tmp_adata = sc.read_10x_mtx(file)\n",
    "    tmp_adata.var_names_make_unique()\n",
    "    tmp_adata.obs_names_make_unique()\n",
    "    tmp_adata.obs['sample'] = file.split('/')[6].rsplit('_', 1)[0]\n",
    "    sc.pp.filter_cells(adata, min_genes=100)\n",
    "    sc.pp.filter_genes(tmp_adata, min_cells=3)\n",
    "    adatas.append(tmp_adata)\n",
    "adata = ad.concat(adatas, axis=0)"
   ]
  },
  {
   "cell_type": "code",
   "execution_count": null,
   "id": "004c056d-70f8-4e7f-b543-c8ddd79d385b",
   "metadata": {},
   "outputs": [],
   "source": [
    "adata.obs['sample'].unique()"
   ]
  },
  {
   "cell_type": "code",
   "execution_count": null,
   "id": "709bd9ac-2567-40d7-8d81-9d80bac0d032",
   "metadata": {},
   "outputs": [],
   "source": [
    "sample_information = pd.read_csv(\"/exports/archive/hg-funcgenom-research\" + \n",
    "                                 \"/Genelab_dataset/OSD-562/OSD-562-samples.csv\")"
   ]
  },
  {
   "cell_type": "code",
   "execution_count": null,
   "id": "d914decb-aadd-47ec-99e3-58e3dca9672b",
   "metadata": {},
   "outputs": [],
   "source": [
    "sample_information['Sample Name'] = sample_information['Sample Name'].str.split(\"RRRM2_HPC_\", expand=True)[1]\n",
    "sample_information.set_index('Sample Name', inplace=True)"
   ]
  },
  {
   "cell_type": "markdown",
   "id": "06019e4c-8642-452c-82b5-6ec2f6193c50",
   "metadata": {},
   "source": [
    "The downloaded data contains one extra sample not present in the Metadata dataframe, we proceed only with the overlap"
   ]
  },
  {
   "cell_type": "code",
   "execution_count": null,
   "id": "dedfdcfc-732e-4940-bf31-1600f8d91660",
   "metadata": {},
   "outputs": [],
   "source": [
    "overlap = np.intersect1d(adata.obs['sample'].unique(), sample_information.index)\n",
    "overlap"
   ]
  },
  {
   "cell_type": "code",
   "execution_count": null,
   "id": "d5839f00-cf35-46cf-9524-a0eb4987d6ac",
   "metadata": {},
   "outputs": [],
   "source": [
    "new_adatas = []\n",
    "for sample in overlap:\n",
    "    adata_subset = adata[adata.obs['sample'] == sample].copy()    \n",
    "    sample_metadata = sample_information.loc[sample]\n",
    "    for col in sample_metadata.index:\n",
    "        adata_subset.obs[col] = sample_metadata[col]\n",
    "\n",
    "    new_adatas.append(adata_subset)"
   ]
  },
  {
   "cell_type": "code",
   "execution_count": null,
   "id": "dec70e18-8f9c-46db-bb66-445bc859ff65",
   "metadata": {},
   "outputs": [],
   "source": [
    "adata = ad.concat(new_adatas, axis=0)"
   ]
  },
  {
   "cell_type": "code",
   "execution_count": null,
   "id": "44ccab91-9560-43d8-9c77-c17b208105e7",
   "metadata": {},
   "outputs": [],
   "source": [
    "adata.var[\"mt\"] = adata.var_names.str.startswith(\"mt-\")\n",
    "adata.var[\"ribo\"] = adata.var_names.str.startswith((\"Rps\", \"Rpl\"))\n",
    "adata.var[\"hb\"] = adata.var_names.str.contains(\"^Hb[^(p)]\")"
   ]
  },
  {
   "cell_type": "code",
   "execution_count": null,
   "id": "d5393148-8d87-425b-a8ab-6924fe621af7",
   "metadata": {},
   "outputs": [],
   "source": [
    "adata"
   ]
  },
  {
   "cell_type": "code",
   "execution_count": null,
   "id": "ba3c9188-6ec1-4d2f-af2b-b06844f06bd9",
   "metadata": {},
   "outputs": [],
   "source": [
    "sc.pp.calculate_qc_metrics(\n",
    "    adata, qc_vars=[\"mt\", \"ribo\", \"hb\"], inplace=True, log1p=True\n",
    ")"
   ]
  },
  {
   "cell_type": "code",
   "execution_count": null,
   "id": "baac4008-6e86-4189-9315-1812ca992a17",
   "metadata": {},
   "outputs": [],
   "source": [
    "adata"
   ]
  },
  {
   "cell_type": "code",
   "execution_count": null,
   "id": "9c59e2e3-8880-472a-ac06-58dbc1354dd9",
   "metadata": {},
   "outputs": [],
   "source": [
    "adata.write_h5ad(\"/exports/archive/hg-funcgenom-research/Genelab_dataset/OSD-562/adata_raw.h5ad\")"
   ]
  }
 ],
 "metadata": {
  "kernelspec": {
   "display_name": "Python [conda env:biolord]",
   "language": "python",
   "name": "conda-env-biolord-py"
  },
  "language_info": {
   "codemirror_mode": {
    "name": "ipython",
    "version": 3
   },
   "file_extension": ".py",
   "mimetype": "text/x-python",
   "name": "python",
   "nbconvert_exporter": "python",
   "pygments_lexer": "ipython3",
   "version": "3.10.15"
  }
 },
 "nbformat": 4,
 "nbformat_minor": 5
}
