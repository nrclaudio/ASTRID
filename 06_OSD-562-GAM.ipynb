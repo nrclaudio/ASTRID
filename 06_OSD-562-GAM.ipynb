{
 "cells": [
  {
   "cell_type": "code",
   "execution_count": 11,
   "id": "e8f62095-3749-4c44-9d36-15803e7448ec",
   "metadata": {},
   "outputs": [],
   "source": [
    "from pygam import GAM, s\n",
    "from scipy.ndimage import convolve\n",
    "import numpy as np\n",
    "import pandas as pd\n",
    "import matplotlib.pyplot as plt\n",
    "import scanpy as sc\n",
    "from tqdm import tqdm"
   ]
  },
  {
   "cell_type": "code",
   "execution_count": 2,
   "id": "ccd44f2e-6d49-46a1-88e1-13c79ad68e84",
   "metadata": {},
   "outputs": [
    {
     "name": "stderr",
     "output_type": "stream",
     "text": [
      "/exports/archive/hg-funcgenom-research/cnovellarausell/conda_envs/sc_analysis/lib/python3.11/site-packages/anndata/_core/anndata.py:1818: UserWarning: Observation names are not unique. To make them unique, call `.obs_names_make_unique`.\n",
      "  utils.warn_names_duplicates(\"obs\")\n"
     ]
    }
   ],
   "source": [
    "adata_preds = sc.read_h5ad(\"radiation_counterfactuals.h5ad\")"
   ]
  },
  {
   "cell_type": "code",
   "execution_count": 19,
   "id": "21216d7c-cbde-4f3d-8c9f-3c53376c9764",
   "metadata": {},
   "outputs": [],
   "source": [
    "adata_preds.obs['radiation'] = adata_preds.obs['radiation'].astype(float)"
   ]
  },
  {
   "cell_type": "code",
   "execution_count": 55,
   "id": "4334265b-20ae-4ad8-bfa2-d4db2943e382",
   "metadata": {},
   "outputs": [
    {
     "data": {
      "text/plain": [
       "radiation\n",
       "0.000000    44928\n",
       "0.578305    44928\n",
       "0.943489    44928\n",
       "0.961291    44928\n",
       "0.979093    44928\n",
       "1.000000    44928\n",
       "Name: count, dtype: int64"
      ]
     },
     "execution_count": 55,
     "metadata": {},
     "output_type": "execute_result"
    }
   ],
   "source": [
    "adata_preds.obs['radiation'].value_counts()"
   ]
  },
  {
   "cell_type": "code",
   "execution_count": 38,
   "id": "b7ebfd03-156e-4b72-8efd-e420b8b8a116",
   "metadata": {},
   "outputs": [
    {
     "name": "stderr",
     "output_type": "stream",
     "text": [
      "100%|██████████| 15749/15749 [3:22:56<00:00,  1.29it/s]  \n"
     ]
    }
   ],
   "source": [
    "models = {}\n",
    "y_test_dict = {}\n",
    "x_test_dict = {}\n",
    "results = {}\n",
    "\n",
    "term = s(0, spline_order=3, n_splines=6, lam=3, penalties=['derivative', 'l2'])\n",
    "radiation_levels = np.unique(adata_preds.obs['radiation'].values)\n",
    "weights_per_level = {level: 10 if level == 0.0 else \n",
    "                            8 if level == 0.5783052351375333 else \n",
    "                            1 for level in radiation_levels}\n",
    "weights_full = np.array([weights_per_level[level] for level in x])\n",
    "\n",
    "for gene in tqdm(adata_preds.var_names):\n",
    "    gam = GAM(terms=term, distribution='normal', link='log', max_iter=2000)\n",
    "\n",
    "    # Gene expression data (response variable, y)\n",
    "    y = adata_preds[:, gene].X.reshape((adata_preds.shape[0], 1))\n",
    "    y = y.reshape((len(y), 1))\n",
    "    \n",
    "    # Radiation levels (predictor variable, x)\n",
    "    x = adata_preds.obs['radiation'].values\n",
    "    x = x.reshape((len(x), 1))\n",
    "    \n",
    "    w = weights_full.reshape((len(weights_full), 1))\n",
    "    \n",
    "\n",
    "    \n",
    "    # Fit the GAM model\n",
    "    model = gam.fit(x, y, weights=w)\n",
    "    \n",
    "    p_values = gam.statistics_['p_values'][0]  # p-value for the effect of radiation\n",
    "    coefficients = gam.coef_  # Coefficients of the fitted model\n",
    "    variance_explained = gam.statistics_['pseudo_r2']  # Variance explained (pseudo R-squared)\n",
    "    \n",
    "    results[gene] = {\n",
    "        'p_value': p_values,\n",
    "        'coefficients': coefficients,\n",
    "        'variance_explained': variance_explained\n",
    "    }\n",
    "    \n",
    "    val_start = np.min(x)\n",
    "    val_end = np.max(x)\n",
    "    if val_start > val_end:\n",
    "        val_start, val_end = val_end, val_start\n",
    "    \n",
    "    val_start, val_end = (max(val_start, np.min(x)), max(val_end, np.max(x)))\n",
    "    \n",
    "    # Filter the test range\n",
    "    fil = (x >= val_start) & (x <= val_end)\n",
    "    \n",
    "    # Generate test points for predictions\n",
    "    x_test = np.linspace(val_start, val_end, 50)\n",
    "    y_test = gam.predict(x_test)\n",
    "    \n",
    "    models[gene] = gam\n",
    "    x_test_dict[gene] = x_test\n",
    "    y_test_dict[gene] = y_test"
   ]
  },
  {
   "cell_type": "code",
   "execution_count": 39,
   "id": "4c97c638-e2ce-4457-a750-06e6e0927da7",
   "metadata": {},
   "outputs": [],
   "source": [
    "results_list = []\n",
    "\n",
    "for gene, gam in models.items():\n",
    "    result = {\n",
    "        'gene': gene,\n",
    "        'p_value': results[gene]['p_value'],\n",
    "        'coefficients': results[gene]['coefficients'],\n",
    "        'variance_explained': results[gene]['variance_explained'],\n",
    "    }\n",
    "    results_list.append(result)\n",
    "\n",
    "results_df = pd.DataFrame(results_list)\n",
    "\n",
    "results_df.to_csv('gam/gam_results.csv', index=False)"
   ]
  },
  {
   "cell_type": "code",
   "execution_count": 40,
   "id": "8ea2e015-b346-421b-a014-67c2f634ebe5",
   "metadata": {},
   "outputs": [],
   "source": [
    "import pickle\n",
    "\n",
    "with open('gam/gam_models.pkl', 'wb') as f:\n",
    "    pickle.dump(models, f)\n",
    "\n",
    "with open('gam/x_test_dict.pkl', 'wb') as f:\n",
    "    pickle.dump(x_test_dict, f)\n",
    "\n",
    "with open('gam/y_test_dict.pkl', 'wb') as f:\n",
    "    pickle.dump(y_test_dict, f)"
   ]
  },
  {
   "cell_type": "code",
   "execution_count": 49,
   "id": "d68e2cc9-455b-4dc7-aa1c-9c8f2f68cb52",
   "metadata": {},
   "outputs": [],
   "source": [
    "increase_at_low_levels = []\n",
    "decrease_at_low_levels = []\n",
    "\n",
    "for gene, y_pred in y_test_dict.items():\n",
    "    low_expression = np.median(y_pred[:2])  # Expression at lower levels (0.0, 0.578305)\n",
    "    high_expression = np.median(y_pred[-2:])  # Expression at higher levels (0.979093, 1.0)\n",
    "\n",
    "    if low_expression < high_expression:\n",
    "        increase_at_low_levels.append((gene, high_expression - low_expression))  \n",
    "    else:\n",
    "        decrease_at_low_levels.append((gene, low_expression - high_expression))  \n",
    "\n",
    "increase_at_low_levels = sorted(increase_at_low_levels, key=lambda x: x[1], reverse=True)\n",
    "decrease_at_low_levels = sorted(decrease_at_low_levels, key=lambda x: x[1], reverse=True)\n",
    "\n",
    "top_20_increase = increase_at_low_levels[:20]\n",
    "top_20_decrease = decrease_at_low_levels[:20]\n",
    "\n",
    "df_increase = pd.DataFrame(top_20_increase, columns=['Gene', 'Change_Magnitude'])\n",
    "df_decrease = pd.DataFrame(top_20_decrease, columns=['Gene', 'Change_Magnitude'])"
   ]
  },
  {
   "cell_type": "code",
   "execution_count": 54,
   "id": "3cd3326b-353b-4788-99ca-96a3304886bb",
   "metadata": {},
   "outputs": [],
   "source": [
    "df_increase.to_csv(\"gam/increase_in_radiation_signature.csv\")\n",
    "df_decrease.to_csv(\"gam/decrease_in_radiation_signature.csv\")"
   ]
  },
  {
   "cell_type": "code",
   "execution_count": 66,
   "id": "87dd44a2-bb33-4a8c-8f72-dd49e9d33c9b",
   "metadata": {},
   "outputs": [],
   "source": [
    "for i, (gene, _) in enumerate(top_20_increase[:5]):  \n",
    "    plt.figure(figsize=(8, 5))\n",
    "    x_values = x_test_dict[gene]  \n",
    "    y_values = y_test_dict[gene]  \n",
    "    plt.plot(x_values, y_values, label=f'Gene: {gene}', color='green')\n",
    "    plt.xlabel('Radiation Levels')\n",
    "    plt.ylabel('Predicted Expression')\n",
    "    plt.title(f'Predicted Expression for Gene: {gene} (Increase at Lower Levels)')\n",
    "    plt.legend()\n",
    "    plt.savefig(f'gam/gene_{gene}_increase.png')\n",
    "    plt.close()\n",
    "\n",
    "for i, (gene, _) in enumerate(top_20_decrease[:5]):  \n",
    "    plt.figure(figsize=(8, 5))\n",
    "    x_values = x_test_dict[gene] \n",
    "    y_values = y_test_dict[gene]  \n",
    "    plt.plot(x_values, y_values, label=f'Gene: {gene}', color='red')\n",
    "    plt.xlabel('Radiation Levels')\n",
    "    plt.ylabel('Predicted Expression')\n",
    "    plt.title(f'Predicted Expression for Gene: {gene} (Decrease at Higher Levels)')\n",
    "    plt.legend()\n",
    "    plt.savefig(f'gam/gene_{gene}_decrease.png')\n",
    "    plt.close()\n"
   ]
  }
 ],
 "metadata": {
  "kernelspec": {
   "display_name": "Python [conda env:sc_analysis]",
   "language": "python",
   "name": "conda-env-sc_analysis-py"
  },
  "language_info": {
   "codemirror_mode": {
    "name": "ipython",
    "version": 3
   },
   "file_extension": ".py",
   "mimetype": "text/x-python",
   "name": "python",
   "nbconvert_exporter": "python",
   "pygments_lexer": "ipython3",
   "version": "3.11.6"
  }
 },
 "nbformat": 4,
 "nbformat_minor": 5
}
