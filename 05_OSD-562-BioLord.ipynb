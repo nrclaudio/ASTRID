{
 "cells": [
  {
   "cell_type": "code",
   "execution_count": 76,
   "id": "2565f5af-8c66-4ca5-a907-9b2b3ce46e13",
   "metadata": {},
   "outputs": [],
   "source": [
    "import pandas as pd\n",
    "import numpy as np\n",
    "\n",
    "import scanpy as sc\n",
    "import biolord\n",
    "\n",
    "import seaborn as sns\n",
    "import matplotlib.pyplot as plt\n",
    "import warnings\n",
    "from scipy.stats import ttest_rel, ttest_ind\n",
    "import itertools\n",
    "import anndata\n",
    "import scipy.spatial as sp, scipy.cluster.hierarchy as hc\n",
    "from tqdm import tqdm\n",
    "from statsmodels.stats.multitest import multipletests\n"
   ]
  },
  {
   "cell_type": "code",
   "execution_count": 35,
   "id": "76d9c8b5-b301-480a-a8be-06a86cf5ea6f",
   "metadata": {},
   "outputs": [],
   "source": [
    "warnings.simplefilter(\"ignore\", UserWarning)"
   ]
  },
  {
   "cell_type": "code",
   "execution_count": 36,
   "id": "3e22333a-7453-4b80-89a7-a0ae6d9260dd",
   "metadata": {},
   "outputs": [],
   "source": [
    "adata = sc.read_h5ad(\"/exports/archive/hg-funcgenom-research/Genelab_dataset/OSD-562/adata_raw.h5ad\")"
   ]
  },
  {
   "cell_type": "code",
   "execution_count": 37,
   "id": "81d8e7af-972d-423f-beab-c83f9e5a694d",
   "metadata": {},
   "outputs": [],
   "source": [
    "def convert_to_float(value):\n",
    "    if 'milligray' in value:\n",
    "        return float(value.split()[0])  \n",
    "    else:\n",
    "        return 0  \n",
    "\n",
    "# Apply the conversion function to the column\n",
    "adata.obs['absorbed_radiation_dose_float'] = adata.obs['Parameter Value: absorbed radiation dose'].apply(convert_to_float)"
   ]
  },
  {
   "cell_type": "code",
   "execution_count": 38,
   "id": "fa289892-890a-4b80-a285-7ba13a1ec497",
   "metadata": {},
   "outputs": [],
   "source": [
    "adata.obs['age'] = adata.obs['Factor Value: Age']\n",
    "adata.obs['spaceflight'] = adata.obs['Factor Value: Spaceflight']\n",
    "# Convert the column to numeric if needed\n",
    "adata.obs['absorbed_radiation_dose_float'] = pd.to_numeric(adata.obs['absorbed_radiation_dose_float'], errors='coerce')\n",
    "# Now, you can apply the scaling operation\n",
    "adata.obs['radiation'] = (adata.obs['absorbed_radiation_dose_float'] - adata.obs['absorbed_radiation_dose_float'].min()) / (adata.obs['absorbed_radiation_dose_float'].max() - adata.obs['absorbed_radiation_dose_float'].min())"
   ]
  },
  {
   "cell_type": "code",
   "execution_count": 39,
   "id": "f6ab5493-3be4-4d38-9036-1926495ae80a",
   "metadata": {},
   "outputs": [
    {
     "data": {
      "text/plain": [
       "radiation\n",
       "0.000000    44928\n",
       "0.578305    29950\n",
       "0.979093    19968\n",
       "0.961291    14975\n",
       "0.943489     9984\n",
       "1.000000     4992\n",
       "Name: count, dtype: int64"
      ]
     },
     "execution_count": 39,
     "metadata": {},
     "output_type": "execute_result"
    }
   ],
   "source": [
    "adata.obs['radiation'].value_counts()"
   ]
  },
  {
   "cell_type": "code",
   "execution_count": 40,
   "id": "5a65b823-85ce-476a-ad46-3f68125b8b50",
   "metadata": {},
   "outputs": [],
   "source": [
    "biolord.Biolord.setup_anndata(\n",
    "    adata,\n",
    "    categorical_attributes_keys=['age', 'spaceflight', 'leiden', 'radiation'],\n",
    ")"
   ]
  },
  {
   "cell_type": "code",
   "execution_count": 41,
   "id": "f288b224-0b97-45e3-9d1b-211b90c27875",
   "metadata": {},
   "outputs": [],
   "source": [
    "module_params = {\n",
    "    \"decoder_width\": 1024,\n",
    "    \"decoder_depth\": 4,\n",
    "    \"attribute_nn_width\": 512,\n",
    "    \"attribute_nn_depth\": 2,\n",
    "    \"n_latent_attribute_categorical\": 16,\n",
    "    \"n_latent_attribute_ordered\": 16,\n",
    "    \"gene_likelihood\": \"nb\",\n",
    "    \"reconstruction_penalty\": 1e2,\n",
    "    \"unknown_attribute_penalty\": 1e1,\n",
    "    \"unknown_attribute_noise_param\": 1e-1,\n",
    "    \"attribute_dropout_rate\": 0.1,\n",
    "    \"use_batch_norm\": False,\n",
    "    \"use_layer_norm\": False,\n",
    "    \"seed\": 42,\n",
    "}"
   ]
  },
  {
   "cell_type": "code",
   "execution_count": 42,
   "id": "a6aa5c81-17a5-41ee-b6dc-426c1f35b997",
   "metadata": {},
   "outputs": [
    {
     "name": "stderr",
     "output_type": "stream",
     "text": [
      "[rank: 0] Global seed set to 42\n"
     ]
    }
   ],
   "source": [
    "model = biolord.Biolord(\n",
    "    adata=adata,\n",
    "    n_latent=32,\n",
    "    model_name=\"spaceflight_radiation\",\n",
    "    module_params=module_params,\n",
    "    train_classifiers=False,\n",
    ")"
   ]
  },
  {
   "cell_type": "code",
   "execution_count": 49,
   "id": "f50206e6-ea00-4d22-9e28-eaca914e9b7f",
   "metadata": {},
   "outputs": [],
   "source": [
    "trainer_params = {\n",
    "    \"n_epochs_warmup\": 0,\n",
    "    \"latent_lr\": 1e-4,\n",
    "    \"latent_wd\": 1e-4,\n",
    "    \"decoder_lr\": 1e-4,\n",
    "    \"decoder_wd\": 1e-4,\n",
    "    \"attribute_nn_lr\": 1e-2,\n",
    "    \"attribute_nn_wd\": 4e-8,\n",
    "    \"step_size_lr\": 45,\n",
    "    \"cosine_scheduler\": True,\n",
    "    \"scheduler_final_lr\": 1e-5,\n",
    "}"
   ]
  },
  {
   "cell_type": "code",
   "execution_count": 50,
   "id": "a8e1a9e5-bb6f-4393-835b-63993e8be43a",
   "metadata": {},
   "outputs": [],
   "source": [
    "warnings.filterwarnings(\"ignore\", category=FutureWarning)"
   ]
  },
  {
   "cell_type": "code",
   "execution_count": 51,
   "id": "ff9567d8-09b3-449b-bfe7-87d68a4c993d",
   "metadata": {},
   "outputs": [
    {
     "name": "stderr",
     "output_type": "stream",
     "text": [
      "GPU available: True (cuda), used: True\n",
      "TPU available: False, using: 0 TPU cores\n",
      "IPU available: False, using: 0 IPUs\n",
      "HPU available: False, using: 0 HPUs\n",
      "LOCAL_RANK: 0 - CUDA_VISIBLE_DEVICES: [0]\n"
     ]
    },
    {
     "name": "stdout",
     "output_type": "stream",
     "text": [
      "Epoch 24/500:   5%|▍         | 24/500 [06:22<2:06:28, 15.94s/it, v_num=1, val_generative_mean_accuracy=0.954, val_generative_var_accuracy=0.12, val_biolord_metric=0.537, val_LOSS_KEYS.RECONSTRUCTION=7.23e+3, val_LOSS_KEYS.UNKNOWN_ATTRIBUTE_PENALTY=13.7, generative_mean_accuracy=0, generative_var_accuracy=0, biolord_metric=0, reconstruction_loss=6.48e+3, unknown_attribute_penalty_loss=29.7]  \n",
      "Monitored metric val_biolord_metric did not improve in the last 20 records. Best score: 0.776. Signaling Trainer to stop.\n"
     ]
    }
   ],
   "source": [
    "model.train(\n",
    "    max_epochs=500,\n",
    "    batch_size=512,\n",
    "    plan_kwargs=trainer_params,\n",
    "    early_stopping=True,\n",
    "    early_stopping_patience=20,\n",
    "    check_val_every_n_epoch=10,\n",
    "    num_workers=1,\n",
    "    enable_checkpointing=False,\n",
    ")"
   ]
  },
  {
   "cell_type": "code",
   "execution_count": 52,
   "id": "f0cfa08e-0e58-4c61-b18a-751cc6718e9c",
   "metadata": {},
   "outputs": [],
   "source": [
    "model.save('biolord_model.pt', overwrite=True)"
   ]
  },
  {
   "cell_type": "code",
   "execution_count": 43,
   "id": "f0cd7abd-6f77-4944-874c-700371efdd04",
   "metadata": {},
   "outputs": [
    {
     "name": "stdout",
     "output_type": "stream",
     "text": [
      "\u001b[34mINFO    \u001b[0m File biolord_model.pt/model.pt already downloaded                                                         \n"
     ]
    },
    {
     "name": "stderr",
     "output_type": "stream",
     "text": [
      "[rank: 0] Global seed set to 42\n"
     ]
    },
    {
     "data": {
      "text/html": [
       "<pre style=\"white-space:pre;overflow-x:auto;line-height:normal;font-family:Menlo,'DejaVu Sans Mono',consolas,'Courier New',monospace\"></pre>\n"
      ],
      "text/plain": []
     },
     "metadata": {},
     "output_type": "display_data"
    },
    {
     "data": {
      "text/plain": [
       "Biolord training status: \u001b[32mTrained\u001b[0m"
      ]
     },
     "execution_count": 43,
     "metadata": {},
     "output_type": "execute_result"
    }
   ],
   "source": [
    "model.load(dir_path = 'biolord_model.pt', adata = adata, accelerator='cpu')"
   ]
  },
  {
   "cell_type": "markdown",
   "id": "debb1e56-95ce-4e28-b7f6-b2747804fc1e",
   "metadata": {},
   "source": [
    "# Let's retrieve the disentangled latent spaces"
   ]
  },
  {
   "cell_type": "code",
   "execution_count": 53,
   "id": "03e844c1-460f-4eaa-972d-fae601af351c",
   "metadata": {},
   "outputs": [
    {
     "data": {
      "text/plain": [
       "(6, 16)"
      ]
     },
     "execution_count": 53,
     "metadata": {},
     "output_type": "execute_result"
    }
   ],
   "source": [
    "model.get_ordered_attribute_embedding(\n",
    "        attribute_key='absorbed_radiation_dose_float', \n",
    "        vals=np.sort(adata.obs['absorbed_radiation_dose_float'].unique())[:, np.newaxis]\n",
    "    ).shape"
   ]
  },
  {
   "cell_type": "code",
   "execution_count": 18,
   "id": "e6903b3a-9a7e-45e3-a6d4-166cb637291a",
   "metadata": {},
   "outputs": [],
   "source": [
    "attribute_keys_categorical = ['age', 'spaceflight', 'leiden']\n",
    "attribute_keys_continuous = ['absorbed_radiation_dose_float']\n",
    "attribute_keys = [*attribute_keys_categorical, *attribute_keys_continuous]\n",
    "\n",
    "transf_embeddings_attributes = {}\n",
    "for attribute_ in attribute_keys_categorical:\n",
    "    transf_embeddings_attributes[attribute_] = sc.pp.scale(model.get_categorical_attribute_embeddings(attribute_key=attribute_))\n",
    "\n",
    "for attribute_ in attribute_keys_continuous:\n",
    "    transf_embeddings_attributes[attribute_] = sc.pp.scale(model.get_ordered_attribute_embedding(\n",
    "        attribute_key=attribute_, \n",
    "        vals=np.sort(adata.obs[attribute_].unique())[:, np.newaxis]\n",
    "    ))\n",
    "\n",
    "attribute_model_keys = {}\n",
    "attribute_model_keys_maps = {}\n",
    "for attribute_ in attribute_keys_categorical:\n",
    "    attribute_model_keys[attribute_] = list(model.categorical_attributes_map[attribute_].keys())\n",
    "    attribute_model_keys_maps[attribute_] = model.categorical_attributes_map[attribute_]\n",
    "\n",
    "for attribute_ in attribute_keys_continuous:\n",
    "    cats = list(np.sort(adata.obs[attribute_].unique()))\n",
    "    attribute_model_keys[attribute_] = cats\n",
    "    attribute_model_keys_maps[attribute_] = {cat: i for i, cat in enumerate(cats)} \n",
    "\n",
    "\n",
    "keys = list(itertools.product(*[attribute_model_keys[attribute_] for attribute_ in attribute_keys]))\n",
    "\n",
    "transf_embeddings_attributes_dict = {\n",
    "    \"_\".join([str(k) for k in key_]): np.concatenate((\n",
    "        [\n",
    "            transf_embeddings_attributes[attribute_][attribute_model_keys_maps[attribute_][key_[ai]], :] for ai, attribute_ in enumerate(attribute_keys)\n",
    "        ]\n",
    "    ), 0)  \n",
    "    for key_ in keys \n",
    "}\n",
    "\n",
    "\n",
    "transf_embeddings_attributes = [\n",
    "    np.concatenate((\n",
    "[\n",
    "            transf_embeddings_attributes[attribute_][attribute_model_keys_maps[attribute_][key_[ai]], :] for ai, attribute_ in enumerate(attribute_keys)\n",
    "        ]\n",
    "    ), 0)  \n",
    "    for key_ in keys\n",
    "]"
   ]
  },
  {
   "cell_type": "code",
   "execution_count": 60,
   "id": "48f1ef81-e3bd-427c-8310-332b30bfffc9",
   "metadata": {},
   "outputs": [
    {
     "data": {
      "text/plain": [
       "AnnData object with n_obs × n_vars = 192 × 64\n",
       "    obs: 'age', 'spacflight', 'radiation', 'leiden'"
      ]
     },
     "execution_count": 60,
     "metadata": {},
     "output_type": "execute_result"
    }
   ],
   "source": [
    "attr = np.asarray(transf_embeddings_attributes)\n",
    "adata_emb = anndata.AnnData(X=attr, dtype=attr.dtype)\n",
    "adata_emb.obs_names = [\"_\".join([str(k) for k in key]) for key in keys]\n",
    "adata_emb.obs[\"age\"] = [key[0] for key in keys]\n",
    "adata_emb.obs[\"spacflight\"] = [key[1] for key in keys]\n",
    "adata_emb.obs[\"radiation\"] = [key[3] for key in keys]\n",
    "adata_emb.obs['leiden'] = [key[2] for key in keys]\n",
    "adata_emb"
   ]
  },
  {
   "cell_type": "code",
   "execution_count": 38,
   "id": "3e1b17cc-c43c-42ec-8c4b-b6d97c1e905e",
   "metadata": {},
   "outputs": [],
   "source": [
    "df = pd.DataFrame(attr, index=adata_emb.obs_names)"
   ]
  },
  {
   "cell_type": "code",
   "execution_count": 39,
   "id": "b1224f2e-368b-49c9-aa37-e8d5f60d9788",
   "metadata": {},
   "outputs": [
    {
     "data": {
      "text/html": [
       "<div>\n",
       "<style scoped>\n",
       "    .dataframe tbody tr th:only-of-type {\n",
       "        vertical-align: middle;\n",
       "    }\n",
       "\n",
       "    .dataframe tbody tr th {\n",
       "        vertical-align: top;\n",
       "    }\n",
       "\n",
       "    .dataframe thead th {\n",
       "        text-align: right;\n",
       "    }\n",
       "</style>\n",
       "<table border=\"1\" class=\"dataframe\">\n",
       "  <thead>\n",
       "    <tr style=\"text-align: right;\">\n",
       "      <th></th>\n",
       "      <th>0</th>\n",
       "      <th>1</th>\n",
       "      <th>2</th>\n",
       "      <th>3</th>\n",
       "      <th>4</th>\n",
       "      <th>5</th>\n",
       "      <th>6</th>\n",
       "      <th>7</th>\n",
       "      <th>8</th>\n",
       "      <th>9</th>\n",
       "      <th>...</th>\n",
       "      <th>54</th>\n",
       "      <th>55</th>\n",
       "      <th>56</th>\n",
       "      <th>57</th>\n",
       "      <th>58</th>\n",
       "      <th>59</th>\n",
       "      <th>60</th>\n",
       "      <th>61</th>\n",
       "      <th>62</th>\n",
       "      <th>63</th>\n",
       "    </tr>\n",
       "  </thead>\n",
       "  <tbody>\n",
       "    <tr>\n",
       "      <th>12 week_Ground Control_0_0.0</th>\n",
       "      <td>-0.707107</td>\n",
       "      <td>-0.707107</td>\n",
       "      <td>-0.707107</td>\n",
       "      <td>-0.707107</td>\n",
       "      <td>-0.707107</td>\n",
       "      <td>0.707107</td>\n",
       "      <td>-0.707107</td>\n",
       "      <td>-0.707107</td>\n",
       "      <td>-0.707107</td>\n",
       "      <td>-0.707107</td>\n",
       "      <td>...</td>\n",
       "      <td>2.041241</td>\n",
       "      <td>-1.284577</td>\n",
       "      <td>-1.282645</td>\n",
       "      <td>-1.283625</td>\n",
       "      <td>0.0</td>\n",
       "      <td>-2.036319</td>\n",
       "      <td>2.041241</td>\n",
       "      <td>-1.283540</td>\n",
       "      <td>2.041241</td>\n",
       "      <td>-0.437862</td>\n",
       "    </tr>\n",
       "    <tr>\n",
       "      <th>12 week_Ground Control_0_10.428</th>\n",
       "      <td>-0.707107</td>\n",
       "      <td>-0.707107</td>\n",
       "      <td>-0.707107</td>\n",
       "      <td>-0.707107</td>\n",
       "      <td>-0.707107</td>\n",
       "      <td>0.707107</td>\n",
       "      <td>-0.707107</td>\n",
       "      <td>-0.707107</td>\n",
       "      <td>-0.707107</td>\n",
       "      <td>-0.707107</td>\n",
       "      <td>...</td>\n",
       "      <td>-0.408248</td>\n",
       "      <td>-1.284577</td>\n",
       "      <td>-1.282645</td>\n",
       "      <td>-1.283625</td>\n",
       "      <td>0.0</td>\n",
       "      <td>0.270519</td>\n",
       "      <td>-0.408248</td>\n",
       "      <td>-1.283540</td>\n",
       "      <td>-0.408248</td>\n",
       "      <td>2.037473</td>\n",
       "    </tr>\n",
       "    <tr>\n",
       "      <th>12 week_Ground Control_0_17.013</th>\n",
       "      <td>-0.707107</td>\n",
       "      <td>-0.707107</td>\n",
       "      <td>-0.707107</td>\n",
       "      <td>-0.707107</td>\n",
       "      <td>-0.707107</td>\n",
       "      <td>0.707107</td>\n",
       "      <td>-0.707107</td>\n",
       "      <td>-0.707107</td>\n",
       "      <td>-0.707107</td>\n",
       "      <td>-0.707107</td>\n",
       "      <td>...</td>\n",
       "      <td>-0.408248</td>\n",
       "      <td>0.496306</td>\n",
       "      <td>0.474966</td>\n",
       "      <td>0.485488</td>\n",
       "      <td>0.0</td>\n",
       "      <td>0.458935</td>\n",
       "      <td>-0.408248</td>\n",
       "      <td>0.484515</td>\n",
       "      <td>-0.408248</td>\n",
       "      <td>-0.286027</td>\n",
       "    </tr>\n",
       "    <tr>\n",
       "      <th>12 week_Ground Control_0_17.334</th>\n",
       "      <td>-0.707107</td>\n",
       "      <td>-0.707107</td>\n",
       "      <td>-0.707107</td>\n",
       "      <td>-0.707107</td>\n",
       "      <td>-0.707107</td>\n",
       "      <td>0.707107</td>\n",
       "      <td>-0.707107</td>\n",
       "      <td>-0.707107</td>\n",
       "      <td>-0.707107</td>\n",
       "      <td>-0.707107</td>\n",
       "      <td>...</td>\n",
       "      <td>-0.408248</td>\n",
       "      <td>0.590913</td>\n",
       "      <td>0.582638</td>\n",
       "      <td>0.586676</td>\n",
       "      <td>0.0</td>\n",
       "      <td>0.447617</td>\n",
       "      <td>-0.408248</td>\n",
       "      <td>0.586363</td>\n",
       "      <td>-0.408248</td>\n",
       "      <td>-0.437862</td>\n",
       "    </tr>\n",
       "    <tr>\n",
       "      <th>12 week_Ground Control_0_17.655</th>\n",
       "      <td>-0.707107</td>\n",
       "      <td>-0.707107</td>\n",
       "      <td>-0.707107</td>\n",
       "      <td>-0.707107</td>\n",
       "      <td>-0.707107</td>\n",
       "      <td>0.707107</td>\n",
       "      <td>-0.707107</td>\n",
       "      <td>-0.707107</td>\n",
       "      <td>-0.707107</td>\n",
       "      <td>-0.707107</td>\n",
       "      <td>...</td>\n",
       "      <td>-0.408248</td>\n",
       "      <td>0.685452</td>\n",
       "      <td>0.690502</td>\n",
       "      <td>0.688027</td>\n",
       "      <td>0.0</td>\n",
       "      <td>0.436281</td>\n",
       "      <td>-0.408248</td>\n",
       "      <td>0.688263</td>\n",
       "      <td>-0.408248</td>\n",
       "      <td>-0.437862</td>\n",
       "    </tr>\n",
       "    <tr>\n",
       "      <th>...</th>\n",
       "      <td>...</td>\n",
       "      <td>...</td>\n",
       "      <td>...</td>\n",
       "      <td>...</td>\n",
       "      <td>...</td>\n",
       "      <td>...</td>\n",
       "      <td>...</td>\n",
       "      <td>...</td>\n",
       "      <td>...</td>\n",
       "      <td>...</td>\n",
       "      <td>...</td>\n",
       "      <td>...</td>\n",
       "      <td>...</td>\n",
       "      <td>...</td>\n",
       "      <td>...</td>\n",
       "      <td>...</td>\n",
       "      <td>...</td>\n",
       "      <td>...</td>\n",
       "      <td>...</td>\n",
       "      <td>...</td>\n",
       "      <td>...</td>\n",
       "    </tr>\n",
       "    <tr>\n",
       "      <th>29 week_Space Flight_7_10.428</th>\n",
       "      <td>0.707107</td>\n",
       "      <td>0.707107</td>\n",
       "      <td>0.707107</td>\n",
       "      <td>0.707107</td>\n",
       "      <td>0.707107</td>\n",
       "      <td>-0.707107</td>\n",
       "      <td>0.707107</td>\n",
       "      <td>0.707107</td>\n",
       "      <td>0.707107</td>\n",
       "      <td>0.707107</td>\n",
       "      <td>...</td>\n",
       "      <td>-0.408248</td>\n",
       "      <td>-1.284577</td>\n",
       "      <td>-1.282645</td>\n",
       "      <td>-1.283625</td>\n",
       "      <td>0.0</td>\n",
       "      <td>0.270519</td>\n",
       "      <td>-0.408248</td>\n",
       "      <td>-1.283540</td>\n",
       "      <td>-0.408248</td>\n",
       "      <td>2.037473</td>\n",
       "    </tr>\n",
       "    <tr>\n",
       "      <th>29 week_Space Flight_7_17.013</th>\n",
       "      <td>0.707107</td>\n",
       "      <td>0.707107</td>\n",
       "      <td>0.707107</td>\n",
       "      <td>0.707107</td>\n",
       "      <td>0.707107</td>\n",
       "      <td>-0.707107</td>\n",
       "      <td>0.707107</td>\n",
       "      <td>0.707107</td>\n",
       "      <td>0.707107</td>\n",
       "      <td>0.707107</td>\n",
       "      <td>...</td>\n",
       "      <td>-0.408248</td>\n",
       "      <td>0.496306</td>\n",
       "      <td>0.474966</td>\n",
       "      <td>0.485488</td>\n",
       "      <td>0.0</td>\n",
       "      <td>0.458935</td>\n",
       "      <td>-0.408248</td>\n",
       "      <td>0.484515</td>\n",
       "      <td>-0.408248</td>\n",
       "      <td>-0.286027</td>\n",
       "    </tr>\n",
       "    <tr>\n",
       "      <th>29 week_Space Flight_7_17.334</th>\n",
       "      <td>0.707107</td>\n",
       "      <td>0.707107</td>\n",
       "      <td>0.707107</td>\n",
       "      <td>0.707107</td>\n",
       "      <td>0.707107</td>\n",
       "      <td>-0.707107</td>\n",
       "      <td>0.707107</td>\n",
       "      <td>0.707107</td>\n",
       "      <td>0.707107</td>\n",
       "      <td>0.707107</td>\n",
       "      <td>...</td>\n",
       "      <td>-0.408248</td>\n",
       "      <td>0.590913</td>\n",
       "      <td>0.582638</td>\n",
       "      <td>0.586676</td>\n",
       "      <td>0.0</td>\n",
       "      <td>0.447617</td>\n",
       "      <td>-0.408248</td>\n",
       "      <td>0.586363</td>\n",
       "      <td>-0.408248</td>\n",
       "      <td>-0.437862</td>\n",
       "    </tr>\n",
       "    <tr>\n",
       "      <th>29 week_Space Flight_7_17.655</th>\n",
       "      <td>0.707107</td>\n",
       "      <td>0.707107</td>\n",
       "      <td>0.707107</td>\n",
       "      <td>0.707107</td>\n",
       "      <td>0.707107</td>\n",
       "      <td>-0.707107</td>\n",
       "      <td>0.707107</td>\n",
       "      <td>0.707107</td>\n",
       "      <td>0.707107</td>\n",
       "      <td>0.707107</td>\n",
       "      <td>...</td>\n",
       "      <td>-0.408248</td>\n",
       "      <td>0.685452</td>\n",
       "      <td>0.690502</td>\n",
       "      <td>0.688027</td>\n",
       "      <td>0.0</td>\n",
       "      <td>0.436281</td>\n",
       "      <td>-0.408248</td>\n",
       "      <td>0.688263</td>\n",
       "      <td>-0.408248</td>\n",
       "      <td>-0.437862</td>\n",
       "    </tr>\n",
       "    <tr>\n",
       "      <th>29 week_Space Flight_7_18.032</th>\n",
       "      <td>0.707107</td>\n",
       "      <td>0.707107</td>\n",
       "      <td>0.707107</td>\n",
       "      <td>0.707107</td>\n",
       "      <td>0.707107</td>\n",
       "      <td>-0.707107</td>\n",
       "      <td>0.707107</td>\n",
       "      <td>0.707107</td>\n",
       "      <td>0.707107</td>\n",
       "      <td>0.707107</td>\n",
       "      <td>...</td>\n",
       "      <td>-0.408248</td>\n",
       "      <td>0.796482</td>\n",
       "      <td>0.817184</td>\n",
       "      <td>0.807059</td>\n",
       "      <td>0.0</td>\n",
       "      <td>0.422967</td>\n",
       "      <td>-0.408248</td>\n",
       "      <td>0.807939</td>\n",
       "      <td>-0.408248</td>\n",
       "      <td>-0.437862</td>\n",
       "    </tr>\n",
       "  </tbody>\n",
       "</table>\n",
       "<p>192 rows × 64 columns</p>\n",
       "</div>"
      ],
      "text/plain": [
       "                                       0         1         2         3   \\\n",
       "12 week_Ground Control_0_0.0    -0.707107 -0.707107 -0.707107 -0.707107   \n",
       "12 week_Ground Control_0_10.428 -0.707107 -0.707107 -0.707107 -0.707107   \n",
       "12 week_Ground Control_0_17.013 -0.707107 -0.707107 -0.707107 -0.707107   \n",
       "12 week_Ground Control_0_17.334 -0.707107 -0.707107 -0.707107 -0.707107   \n",
       "12 week_Ground Control_0_17.655 -0.707107 -0.707107 -0.707107 -0.707107   \n",
       "...                                   ...       ...       ...       ...   \n",
       "29 week_Space Flight_7_10.428    0.707107  0.707107  0.707107  0.707107   \n",
       "29 week_Space Flight_7_17.013    0.707107  0.707107  0.707107  0.707107   \n",
       "29 week_Space Flight_7_17.334    0.707107  0.707107  0.707107  0.707107   \n",
       "29 week_Space Flight_7_17.655    0.707107  0.707107  0.707107  0.707107   \n",
       "29 week_Space Flight_7_18.032    0.707107  0.707107  0.707107  0.707107   \n",
       "\n",
       "                                       4         5         6         7   \\\n",
       "12 week_Ground Control_0_0.0    -0.707107  0.707107 -0.707107 -0.707107   \n",
       "12 week_Ground Control_0_10.428 -0.707107  0.707107 -0.707107 -0.707107   \n",
       "12 week_Ground Control_0_17.013 -0.707107  0.707107 -0.707107 -0.707107   \n",
       "12 week_Ground Control_0_17.334 -0.707107  0.707107 -0.707107 -0.707107   \n",
       "12 week_Ground Control_0_17.655 -0.707107  0.707107 -0.707107 -0.707107   \n",
       "...                                   ...       ...       ...       ...   \n",
       "29 week_Space Flight_7_10.428    0.707107 -0.707107  0.707107  0.707107   \n",
       "29 week_Space Flight_7_17.013    0.707107 -0.707107  0.707107  0.707107   \n",
       "29 week_Space Flight_7_17.334    0.707107 -0.707107  0.707107  0.707107   \n",
       "29 week_Space Flight_7_17.655    0.707107 -0.707107  0.707107  0.707107   \n",
       "29 week_Space Flight_7_18.032    0.707107 -0.707107  0.707107  0.707107   \n",
       "\n",
       "                                       8         9   ...        54        55  \\\n",
       "12 week_Ground Control_0_0.0    -0.707107 -0.707107  ...  2.041241 -1.284577   \n",
       "12 week_Ground Control_0_10.428 -0.707107 -0.707107  ... -0.408248 -1.284577   \n",
       "12 week_Ground Control_0_17.013 -0.707107 -0.707107  ... -0.408248  0.496306   \n",
       "12 week_Ground Control_0_17.334 -0.707107 -0.707107  ... -0.408248  0.590913   \n",
       "12 week_Ground Control_0_17.655 -0.707107 -0.707107  ... -0.408248  0.685452   \n",
       "...                                   ...       ...  ...       ...       ...   \n",
       "29 week_Space Flight_7_10.428    0.707107  0.707107  ... -0.408248 -1.284577   \n",
       "29 week_Space Flight_7_17.013    0.707107  0.707107  ... -0.408248  0.496306   \n",
       "29 week_Space Flight_7_17.334    0.707107  0.707107  ... -0.408248  0.590913   \n",
       "29 week_Space Flight_7_17.655    0.707107  0.707107  ... -0.408248  0.685452   \n",
       "29 week_Space Flight_7_18.032    0.707107  0.707107  ... -0.408248  0.796482   \n",
       "\n",
       "                                       56        57   58        59        60  \\\n",
       "12 week_Ground Control_0_0.0    -1.282645 -1.283625  0.0 -2.036319  2.041241   \n",
       "12 week_Ground Control_0_10.428 -1.282645 -1.283625  0.0  0.270519 -0.408248   \n",
       "12 week_Ground Control_0_17.013  0.474966  0.485488  0.0  0.458935 -0.408248   \n",
       "12 week_Ground Control_0_17.334  0.582638  0.586676  0.0  0.447617 -0.408248   \n",
       "12 week_Ground Control_0_17.655  0.690502  0.688027  0.0  0.436281 -0.408248   \n",
       "...                                   ...       ...  ...       ...       ...   \n",
       "29 week_Space Flight_7_10.428   -1.282645 -1.283625  0.0  0.270519 -0.408248   \n",
       "29 week_Space Flight_7_17.013    0.474966  0.485488  0.0  0.458935 -0.408248   \n",
       "29 week_Space Flight_7_17.334    0.582638  0.586676  0.0  0.447617 -0.408248   \n",
       "29 week_Space Flight_7_17.655    0.690502  0.688027  0.0  0.436281 -0.408248   \n",
       "29 week_Space Flight_7_18.032    0.817184  0.807059  0.0  0.422967 -0.408248   \n",
       "\n",
       "                                       61        62        63  \n",
       "12 week_Ground Control_0_0.0    -1.283540  2.041241 -0.437862  \n",
       "12 week_Ground Control_0_10.428 -1.283540 -0.408248  2.037473  \n",
       "12 week_Ground Control_0_17.013  0.484515 -0.408248 -0.286027  \n",
       "12 week_Ground Control_0_17.334  0.586363 -0.408248 -0.437862  \n",
       "12 week_Ground Control_0_17.655  0.688263 -0.408248 -0.437862  \n",
       "...                                   ...       ...       ...  \n",
       "29 week_Space Flight_7_10.428   -1.283540 -0.408248  2.037473  \n",
       "29 week_Space Flight_7_17.013    0.484515 -0.408248 -0.286027  \n",
       "29 week_Space Flight_7_17.334    0.586363 -0.408248 -0.437862  \n",
       "29 week_Space Flight_7_17.655    0.688263 -0.408248 -0.437862  \n",
       "29 week_Space Flight_7_18.032    0.807939 -0.408248 -0.437862  \n",
       "\n",
       "[192 rows x 64 columns]"
      ]
     },
     "execution_count": 39,
     "metadata": {},
     "output_type": "execute_result"
    }
   ],
   "source": [
    "df"
   ]
  },
  {
   "cell_type": "code",
   "execution_count": 40,
   "id": "ce19853f-42cb-4dfc-8bcf-5007afa184d9",
   "metadata": {},
   "outputs": [
    {
     "name": "stderr",
     "output_type": "stream",
     "text": [
      "/tmp/ipykernel_2097561/3264835678.py:2: SettingWithCopyWarning: \n",
      "A value is trying to be set on a copy of a slice from a DataFrame.\n",
      "Try using .loc[row_indexer,col_indexer] = value instead\n",
      "\n",
      "See the caveats in the documentation: https://pandas.pydata.org/pandas-docs/stable/user_guide/indexing.html#returning-a-view-versus-a-copy\n",
      "  df[\"radiation\"] = [key[3] for key in keys]\n"
     ]
    }
   ],
   "source": [
    "df = df.iloc[:, 46:]\n",
    "df[\"radiation\"] = [key[3] for key in keys]\n",
    "df_agg = df.groupby(\"radiation\").mean().T"
   ]
  },
  {
   "cell_type": "code",
   "execution_count": 41,
   "id": "99184fb4-e013-42b8-9efd-dc6568a79f2c",
   "metadata": {},
   "outputs": [
    {
     "data": {
      "text/html": [
       "<div>\n",
       "<style scoped>\n",
       "    .dataframe tbody tr th:only-of-type {\n",
       "        vertical-align: middle;\n",
       "    }\n",
       "\n",
       "    .dataframe tbody tr th {\n",
       "        vertical-align: top;\n",
       "    }\n",
       "\n",
       "    .dataframe thead th {\n",
       "        text-align: right;\n",
       "    }\n",
       "</style>\n",
       "<table border=\"1\" class=\"dataframe\">\n",
       "  <thead>\n",
       "    <tr style=\"text-align: right;\">\n",
       "      <th>radiation</th>\n",
       "      <th>0.000</th>\n",
       "      <th>10.428</th>\n",
       "      <th>17.013</th>\n",
       "      <th>17.334</th>\n",
       "      <th>17.655</th>\n",
       "      <th>18.032</th>\n",
       "    </tr>\n",
       "  </thead>\n",
       "  <tbody>\n",
       "    <tr>\n",
       "      <th>46</th>\n",
       "      <td>4.656613e-09</td>\n",
       "      <td>4.656613e-09</td>\n",
       "      <td>4.656613e-09</td>\n",
       "      <td>4.656613e-09</td>\n",
       "      <td>4.656613e-09</td>\n",
       "      <td>4.656613e-09</td>\n",
       "    </tr>\n",
       "    <tr>\n",
       "      <th>47</th>\n",
       "      <td>-1.490116e-08</td>\n",
       "      <td>-1.490116e-08</td>\n",
       "      <td>-1.490116e-08</td>\n",
       "      <td>-1.490116e-08</td>\n",
       "      <td>-1.490116e-08</td>\n",
       "      <td>-1.490116e-08</td>\n",
       "    </tr>\n",
       "    <tr>\n",
       "      <th>48</th>\n",
       "      <td>-1.651783e+00</td>\n",
       "      <td>-8.376811e-01</td>\n",
       "      <td>5.284244e-01</td>\n",
       "      <td>5.892702e-01</td>\n",
       "      <td>6.501403e-01</td>\n",
       "      <td>7.216293e-01</td>\n",
       "    </tr>\n",
       "    <tr>\n",
       "      <th>49</th>\n",
       "      <td>2.041241e+00</td>\n",
       "      <td>-4.082483e-01</td>\n",
       "      <td>-4.082483e-01</td>\n",
       "      <td>-4.082483e-01</td>\n",
       "      <td>-4.082483e-01</td>\n",
       "      <td>-4.082483e-01</td>\n",
       "    </tr>\n",
       "    <tr>\n",
       "      <th>50</th>\n",
       "      <td>-1.282685e+00</td>\n",
       "      <td>-1.282685e+00</td>\n",
       "      <td>4.753247e-01</td>\n",
       "      <td>5.828662e-01</td>\n",
       "      <td>6.904269e-01</td>\n",
       "      <td>8.167518e-01</td>\n",
       "    </tr>\n",
       "    <tr>\n",
       "      <th>51</th>\n",
       "      <td>-1.283433e+00</td>\n",
       "      <td>-1.283433e+00</td>\n",
       "      <td>4.833550e-01</td>\n",
       "      <td>5.858907e-01</td>\n",
       "      <td>6.885349e-01</td>\n",
       "      <td>8.090854e-01</td>\n",
       "    </tr>\n",
       "    <tr>\n",
       "      <th>52</th>\n",
       "      <td>2.041241e+00</td>\n",
       "      <td>-4.082483e-01</td>\n",
       "      <td>-4.082483e-01</td>\n",
       "      <td>-4.082483e-01</td>\n",
       "      <td>-4.082483e-01</td>\n",
       "      <td>-4.082483e-01</td>\n",
       "    </tr>\n",
       "    <tr>\n",
       "      <th>53</th>\n",
       "      <td>-1.284639e+00</td>\n",
       "      <td>-1.284639e+00</td>\n",
       "      <td>4.970846e-01</td>\n",
       "      <td>5.911497e-01</td>\n",
       "      <td>6.852588e-01</td>\n",
       "      <td>7.957851e-01</td>\n",
       "    </tr>\n",
       "    <tr>\n",
       "      <th>54</th>\n",
       "      <td>2.041241e+00</td>\n",
       "      <td>-4.082483e-01</td>\n",
       "      <td>-4.082483e-01</td>\n",
       "      <td>-4.082483e-01</td>\n",
       "      <td>-4.082483e-01</td>\n",
       "      <td>-4.082483e-01</td>\n",
       "    </tr>\n",
       "    <tr>\n",
       "      <th>55</th>\n",
       "      <td>-1.284577e+00</td>\n",
       "      <td>-1.284577e+00</td>\n",
       "      <td>4.963058e-01</td>\n",
       "      <td>5.909133e-01</td>\n",
       "      <td>6.854518e-01</td>\n",
       "      <td>7.964822e-01</td>\n",
       "    </tr>\n",
       "    <tr>\n",
       "      <th>56</th>\n",
       "      <td>-1.282645e+00</td>\n",
       "      <td>-1.282645e+00</td>\n",
       "      <td>4.749664e-01</td>\n",
       "      <td>5.826375e-01</td>\n",
       "      <td>6.905022e-01</td>\n",
       "      <td>8.171842e-01</td>\n",
       "    </tr>\n",
       "    <tr>\n",
       "      <th>57</th>\n",
       "      <td>-1.283625e+00</td>\n",
       "      <td>-1.283625e+00</td>\n",
       "      <td>4.854883e-01</td>\n",
       "      <td>5.866758e-01</td>\n",
       "      <td>6.880273e-01</td>\n",
       "      <td>8.070589e-01</td>\n",
       "    </tr>\n",
       "    <tr>\n",
       "      <th>58</th>\n",
       "      <td>0.000000e+00</td>\n",
       "      <td>0.000000e+00</td>\n",
       "      <td>0.000000e+00</td>\n",
       "      <td>0.000000e+00</td>\n",
       "      <td>0.000000e+00</td>\n",
       "      <td>0.000000e+00</td>\n",
       "    </tr>\n",
       "    <tr>\n",
       "      <th>59</th>\n",
       "      <td>-2.036319e+00</td>\n",
       "      <td>2.705188e-01</td>\n",
       "      <td>4.589348e-01</td>\n",
       "      <td>4.476175e-01</td>\n",
       "      <td>4.362809e-01</td>\n",
       "      <td>4.229669e-01</td>\n",
       "    </tr>\n",
       "    <tr>\n",
       "      <th>60</th>\n",
       "      <td>2.041241e+00</td>\n",
       "      <td>-4.082483e-01</td>\n",
       "      <td>-4.082483e-01</td>\n",
       "      <td>-4.082483e-01</td>\n",
       "      <td>-4.082483e-01</td>\n",
       "      <td>-4.082483e-01</td>\n",
       "    </tr>\n",
       "    <tr>\n",
       "      <th>61</th>\n",
       "      <td>-1.283540e+00</td>\n",
       "      <td>-1.283540e+00</td>\n",
       "      <td>4.845152e-01</td>\n",
       "      <td>5.863628e-01</td>\n",
       "      <td>6.882631e-01</td>\n",
       "      <td>8.079395e-01</td>\n",
       "    </tr>\n",
       "    <tr>\n",
       "      <th>62</th>\n",
       "      <td>2.041241e+00</td>\n",
       "      <td>-4.082483e-01</td>\n",
       "      <td>-4.082483e-01</td>\n",
       "      <td>-4.082483e-01</td>\n",
       "      <td>-4.082483e-01</td>\n",
       "      <td>-4.082483e-01</td>\n",
       "    </tr>\n",
       "    <tr>\n",
       "      <th>63</th>\n",
       "      <td>-4.378616e-01</td>\n",
       "      <td>2.037473e+00</td>\n",
       "      <td>-2.860270e-01</td>\n",
       "      <td>-4.378616e-01</td>\n",
       "      <td>-4.378616e-01</td>\n",
       "      <td>-4.378616e-01</td>\n",
       "    </tr>\n",
       "  </tbody>\n",
       "</table>\n",
       "</div>"
      ],
      "text/plain": [
       "radiation        0.000         10.428        17.013        17.334  \\\n",
       "46         4.656613e-09  4.656613e-09  4.656613e-09  4.656613e-09   \n",
       "47        -1.490116e-08 -1.490116e-08 -1.490116e-08 -1.490116e-08   \n",
       "48        -1.651783e+00 -8.376811e-01  5.284244e-01  5.892702e-01   \n",
       "49         2.041241e+00 -4.082483e-01 -4.082483e-01 -4.082483e-01   \n",
       "50        -1.282685e+00 -1.282685e+00  4.753247e-01  5.828662e-01   \n",
       "51        -1.283433e+00 -1.283433e+00  4.833550e-01  5.858907e-01   \n",
       "52         2.041241e+00 -4.082483e-01 -4.082483e-01 -4.082483e-01   \n",
       "53        -1.284639e+00 -1.284639e+00  4.970846e-01  5.911497e-01   \n",
       "54         2.041241e+00 -4.082483e-01 -4.082483e-01 -4.082483e-01   \n",
       "55        -1.284577e+00 -1.284577e+00  4.963058e-01  5.909133e-01   \n",
       "56        -1.282645e+00 -1.282645e+00  4.749664e-01  5.826375e-01   \n",
       "57        -1.283625e+00 -1.283625e+00  4.854883e-01  5.866758e-01   \n",
       "58         0.000000e+00  0.000000e+00  0.000000e+00  0.000000e+00   \n",
       "59        -2.036319e+00  2.705188e-01  4.589348e-01  4.476175e-01   \n",
       "60         2.041241e+00 -4.082483e-01 -4.082483e-01 -4.082483e-01   \n",
       "61        -1.283540e+00 -1.283540e+00  4.845152e-01  5.863628e-01   \n",
       "62         2.041241e+00 -4.082483e-01 -4.082483e-01 -4.082483e-01   \n",
       "63        -4.378616e-01  2.037473e+00 -2.860270e-01 -4.378616e-01   \n",
       "\n",
       "radiation        17.655        18.032  \n",
       "46         4.656613e-09  4.656613e-09  \n",
       "47        -1.490116e-08 -1.490116e-08  \n",
       "48         6.501403e-01  7.216293e-01  \n",
       "49        -4.082483e-01 -4.082483e-01  \n",
       "50         6.904269e-01  8.167518e-01  \n",
       "51         6.885349e-01  8.090854e-01  \n",
       "52        -4.082483e-01 -4.082483e-01  \n",
       "53         6.852588e-01  7.957851e-01  \n",
       "54        -4.082483e-01 -4.082483e-01  \n",
       "55         6.854518e-01  7.964822e-01  \n",
       "56         6.905022e-01  8.171842e-01  \n",
       "57         6.880273e-01  8.070589e-01  \n",
       "58         0.000000e+00  0.000000e+00  \n",
       "59         4.362809e-01  4.229669e-01  \n",
       "60        -4.082483e-01 -4.082483e-01  \n",
       "61         6.882631e-01  8.079395e-01  \n",
       "62        -4.082483e-01 -4.082483e-01  \n",
       "63        -4.378616e-01 -4.378616e-01  "
      ]
     },
     "execution_count": 41,
     "metadata": {},
     "output_type": "execute_result"
    }
   ],
   "source": [
    "df_agg"
   ]
  },
  {
   "cell_type": "code",
   "execution_count": 42,
   "id": "12578dac-f3e0-4d21-96d1-666aaa0fd720",
   "metadata": {},
   "outputs": [
    {
     "data": {
      "image/png": "[encoded data removed]",
      "text/plain": [
       "<Figure size 1500x1500 with 4 Axes>"
      ]
     },
     "metadata": {},
     "output_type": "display_data"
    }
   ],
   "source": [
    "linkage = hc.linkage(df_agg.corr(), method='complete', optimal_ordering=True)\n",
    "h = sns.clustermap(df_agg.corr(), row_linkage=linkage, col_linkage=linkage, yticklabels=1, xticklabels=1, figsize=(15, 15))\n",
    "h.ax_heatmap.set_yticklabels(h.ax_heatmap.get_yticklabels(), rotation=0, fontsize=20)\n",
    "h.ax_heatmap.set_xticklabels(h.ax_heatmap.get_xticklabels(), rotation=90, fontsize=20)\n",
    "h.ax_heatmap.set_ylabel(\"Radiation\", fontsize=20)\n",
    "h.ax_heatmap.set_xlabel(\"Radiation\", fontsize=20)\n",
    "plt.tight_layout()\n",
    "plt.show()"
   ]
  },
  {
   "cell_type": "code",
   "execution_count": 61,
   "id": "5ff1ea0a-1122-488d-8312-cc55f6660bae",
   "metadata": {},
   "outputs": [],
   "source": [
    "sc.pp.pca(adata_emb)\n",
    "sc.pp.neighbors(adata_emb, use_rep=\"X\")\n",
    "sc.tl.umap(adata_emb)"
   ]
  },
  {
   "cell_type": "code",
   "execution_count": 62,
   "id": "e009d236-837c-4b4e-9881-6fa49af83f91",
   "metadata": {},
   "outputs": [],
   "source": [
    "adata_emb.obs.leiden = adata_emb.obs.leiden.astype('category')\n",
    "adata_emb.obs.radiation = adata_emb.obs.radiation.astype('float')"
   ]
  },
  {
   "cell_type": "code",
   "execution_count": 66,
   "id": "7d4afabb-489a-4e66-bedb-b3135e6d26e5",
   "metadata": {},
   "outputs": [],
   "source": [
    "idx = []\n",
    "for ti, tissue in enumerate(adata_emb.obs[\"spacflight\"].cat.categories):\n",
    "    cts = adata[adata.obs[\"spaceflight\"].isin([tissue])].obs['absorbed_radiation_dose_float'].unique()\n",
    "    \n",
    "    idx.append(list(np.where((adata_emb.obs[\"spacflight\"].isin([tissue])) & (adata_emb.obs[\"radiation\"].isin(cts)))[0]))\n",
    "\n",
    "adata_emb = adata_emb[np.concatenate(idx)]"
   ]
  },
  {
   "cell_type": "code",
   "execution_count": 67,
   "id": "7d9726a7-fdd5-4437-a245-9610b77004d3",
   "metadata": {},
   "outputs": [
    {
     "data": {
      "image/png": "[encoded data removed]",
      "text/plain": [
       "<Figure size 1400x200 with 5 Axes>"
      ]
     },
     "metadata": {},
     "output_type": "display_data"
    }
   ],
   "source": [
    "fig, axs = plt.subplots(1, 4, figsize=(14, 2))\n",
    "for i, c in enumerate([\"age\", \"spacflight\", \"radiation\", 'leiden']):\n",
    "    sc.pl.umap(\n",
    "        adata_emb,\n",
    "        size=200,\n",
    "        color=[c],\n",
    "        ax=axs[i], \n",
    "        show=False\n",
    "    )\n",
    "plt.tight_layout()\n",
    "plt.show()"
   ]
  },
  {
   "cell_type": "markdown",
   "id": "c50354e7-33c6-428c-aba4-cb16c20415c5",
   "metadata": {},
   "source": [
    "# We now perform counterfactuals on Ground Control cells to predict their gene expression under radiatio, whilst keeping the rest of the attributes fixed"
   ]
  },
  {
   "cell_type": "code",
   "execution_count": 44,
   "id": "8567c07d-b3ea-4732-b462-103691e08ed6",
   "metadata": {},
   "outputs": [],
   "source": [
    "idx_source = np.where(adata.obs[\"radiation\"] == 0.000000)[0]\n",
    "\n",
    "adata_ctl = adata[idx_source].copy()"
   ]
  },
  {
   "cell_type": "code",
   "execution_count": 45,
   "id": "2ad8b6eb-7896-4b0b-b888-bf9d7ee6ff87",
   "metadata": {},
   "outputs": [],
   "source": [
    "model.to_device('cpu')"
   ]
  },
  {
   "cell_type": "code",
   "execution_count": 47,
   "id": "7e576db0-c39b-4e41-be01-de56ea6eae31",
   "metadata": {},
   "outputs": [
    {
     "name": "stderr",
     "output_type": "stream",
     "text": [
      "0it [00:00, ?it/s]"
     ]
    },
    {
     "name": "stdout",
     "output_type": "stream",
     "text": [
      "\u001b[34mINFO    \u001b[0m AnnData object appears to be a copy. Attempting to transfer setup.                                        \n"
     ]
    },
    {
     "name": "stderr",
     "output_type": "stream",
     "text": [
      "1it [00:06,  6.45s/it]"
     ]
    },
    {
     "name": "stdout",
     "output_type": "stream",
     "text": [
      "\u001b[34mINFO    \u001b[0m AnnData object appears to be a copy. Attempting to transfer setup.                                        \n"
     ]
    },
    {
     "name": "stderr",
     "output_type": "stream",
     "text": [
      "2it [00:11,  5.49s/it]"
     ]
    },
    {
     "name": "stdout",
     "output_type": "stream",
     "text": [
      "\u001b[34mINFO    \u001b[0m AnnData object appears to be a copy. Attempting to transfer setup.                                        \n"
     ]
    },
    {
     "name": "stderr",
     "output_type": "stream",
     "text": [
      "3it [00:12,  3.44s/it]"
     ]
    },
    {
     "name": "stdout",
     "output_type": "stream",
     "text": [
      "\u001b[34mINFO    \u001b[0m AnnData object appears to be a copy. Attempting to transfer setup.                                        \n"
     ]
    },
    {
     "name": "stderr",
     "output_type": "stream",
     "text": [
      "4it [00:13,  2.63s/it]"
     ]
    },
    {
     "name": "stdout",
     "output_type": "stream",
     "text": [
      "\u001b[34mINFO    \u001b[0m AnnData object appears to be a copy. Attempting to transfer setup.                                        \n"
     ]
    },
    {
     "name": "stderr",
     "output_type": "stream",
     "text": [
      "5it [00:15,  2.33s/it]"
     ]
    },
    {
     "name": "stdout",
     "output_type": "stream",
     "text": [
      "\u001b[34mINFO    \u001b[0m AnnData object appears to be a copy. Attempting to transfer setup.                                        \n"
     ]
    },
    {
     "name": "stderr",
     "output_type": "stream",
     "text": [
      "6it [00:15,  2.65s/it]\n",
      "/exports/archive/hg-funcgenom-research/cnovellarausell/conda_envs/sc_analysis/lib/python3.11/site-packages/anndata/_core/anndata.py:430: FutureWarning: The dtype argument is deprecated and will be removed in late 2024.\n",
      "  warnings.warn(\n",
      "/exports/archive/hg-funcgenom-research/cnovellarausell/conda_envs/sc_analysis/lib/python3.11/site-packages/biolord/_model.py:916: FutureWarning: Setting an item of incompatible dtype is deprecated and will raise an error in a future version of pandas. Value '['29 week', '29 week', '29 week', '29 week', '29 week', ..., '29 week', '29 week', '29 week', '29 week', '29 week']\n",
      "Length: 44928\n",
      "Categories (2, object): ['12 week', '29 week']' has dtype incompatible with float64, please explicitly cast to a compatible dtype first.\n",
      "  adata_preds.obs.iloc[start : start + adata_source.shape[0], -1] = adata_source.obs[attribute_]\n",
      "/exports/archive/hg-funcgenom-research/cnovellarausell/conda_envs/sc_analysis/lib/python3.11/site-packages/biolord/_model.py:916: FutureWarning: Setting an item of incompatible dtype is deprecated and will raise an error in a future version of pandas. Value '['Ground Control', 'Ground Control', 'Ground Control', 'Ground Control', 'Ground Control', ..., 'Ground Control', 'Ground Control', 'Ground Control', 'Ground Control', 'Ground Control']\n",
      "Length: 44928\n",
      "Categories (1, object): ['Ground Control']' has dtype incompatible with float64, please explicitly cast to a compatible dtype first.\n",
      "  adata_preds.obs.iloc[start : start + adata_source.shape[0], -1] = adata_source.obs[attribute_]\n"
     ]
    }
   ],
   "source": [
    "adata_preds = model.compute_prediction_adata(\n",
    "    adata, adata_ctl, target_attributes=['radiation'], add_attributes=['age', 'spaceflight', 'leiden'], \n",
    ")"
   ]
  },
  {
   "cell_type": "code",
   "execution_count": 48,
   "id": "3b657067-0544-4803-aa8a-898744a61834",
   "metadata": {},
   "outputs": [],
   "source": [
    "adata_preds.write_h5ad(\"radiation_counterfactuals.h5ad\")"
   ]
  }
 ],
 "metadata": {
  "kernelspec": {
   "display_name": "Python [conda env:sc_analysis]",
   "language": "python",
   "name": "conda-env-sc_analysis-py"
  },
  "language_info": {
   "codemirror_mode": {
    "name": "ipython",
    "version": 3
   },
   "file_extension": ".py",
   "mimetype": "text/x-python",
   "name": "python",
   "nbconvert_exporter": "python",
   "pygments_lexer": "ipython3",
   "version": "3.11.6"
  }
 },
 "nbformat": 4,
 "nbformat_minor": 5
}
